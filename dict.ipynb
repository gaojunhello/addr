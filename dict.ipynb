{
 "cells": [
  {
   "cell_type": "code",
   "execution_count": 1,
   "metadata": {},
   "outputs": [],
   "source": [
    "import pandas as pd"
   ]
  },
  {
   "cell_type": "code",
   "execution_count": 2,
   "metadata": {},
   "outputs": [],
   "source": [
    "df = pd.read_csv(\"./cmd/addr.txt\",header=None,sep='\\t',dtype=str,names=['code','name'])\n",
    "lenmap = {2:\"province\",4:\"city\",6:\"county\",9:\"town\",12:\"village\"}\n",
    "df['type'] = df.apply(lambda row: lenmap[len(row['code'])], axis=1)\n",
    "\n",
    "def nations_():\n",
    "    for line in open(\"./cmd/chinese_nations.txt\"):\n",
    "        line = line.strip()\n",
    "        if len(line) > 2:\n",
    "            yield line[:-1]\n",
    "        yield line\n",
    "\n",
    "nations = list(nations_())\n",
    "nations.sort(reverse=True)"
   ]
  },
  {
   "cell_type": "code",
   "execution_count": 3,
   "metadata": {},
   "outputs": [],
   "source": [
    "province = df[df['type']=='province']"
   ]
  },
  {
   "cell_type": "code",
   "execution_count": 4,
   "metadata": {},
   "outputs": [],
   "source": [
    "def process(row):\n",
    "    name = row['name']\n",
    "    if name.endswith('市'):\n",
    "        return [name, name.rstrip('市')]\n",
    "    elif name.endswith('省'):\n",
    "        return [name, name.rstrip('省')]\n",
    "    elif name == '内蒙古自治区':\n",
    "        return [name, '内蒙古省', '内蒙古', '内蒙']\n",
    "    elif name == '广西壮族自治区':\n",
    "        return [name, '广西自治区', '广西省', '广西']\n",
    "    elif name == '西藏自治区':\n",
    "        return [name, '西藏省', '西藏']\n",
    "    elif name == '新疆维吾尔自治区':\n",
    "        return [name,'新疆维吾尔族自治区', '新疆自治区', '新疆省', '新疆']\n",
    "    return [name]"
   ]
  },
  {
   "cell_type": "code",
   "execution_count": 5,
   "metadata": {},
   "outputs": [],
   "source": [
    "#province['ext'] = province.apply(process, axis=1)"
   ]
  },
  {
   "cell_type": "code",
   "execution_count": 6,
   "metadata": {},
   "outputs": [],
   "source": [
    "city = df[df['type']=='city']"
   ]
  },
  {
   "cell_type": "code",
   "execution_count": 7,
   "metadata": {},
   "outputs": [],
   "source": [
    "def _zhou(name):\n",
    "    x = name.rstrip('自治州')\n",
    "    for i in nations:\n",
    "        x = x.replace(i,\"\")\n",
    "    ret = [name,x+\"自治州\",x+\"州\",x+\"市\",x]\n",
    "    if name == '克孜勒苏柯尔克孜自治州': ret.append(\"克州\")\n",
    "    elif name == '巴音郭楞蒙古自治州': ret.append(\"巴州\")\n",
    "    elif name == '博尔塔拉蒙古自治州': ret.append(\"博州\")\n",
    "    return ret\n",
    "def city_process(row):\n",
    "    name = row['name']\n",
    "    if name.endswith('市'):\n",
    "        ret = [name, name.rstrip('市')]\n",
    "        if name == '呼和浩特市': ret.append('呼市')\n",
    "        return ret\n",
    "    elif name.endswith('盟'):\n",
    "        return [name, name.rstrip('盟')]\n",
    "    elif name.endswith(\"自治州\"):\n",
    "        return _zhou(name)\n",
    "    elif name.endswith(\"地区\"):\n",
    "        return [name, name.rstrip(\"地区\")]\n",
    "    return [name]"
   ]
  },
  {
   "cell_type": "code",
   "execution_count": 8,
   "metadata": {},
   "outputs": [],
   "source": [
    "#city[~city.name.str.match('.*(市|盟|区|区划|县)$')].name.apply(_zhou)\n",
    "#city.apply(city_process,axis=1)\n",
    "#city[~city.name.str.match('.*(市|盟|自治州|地区)$')]"
   ]
  },
  {
   "cell_type": "code",
   "execution_count": 9,
   "metadata": {},
   "outputs": [],
   "source": [
    "county = df[df['type']=='county']"
   ]
  },
  {
   "cell_type": "code",
   "execution_count": 10,
   "metadata": {},
   "outputs": [],
   "source": [
    "# TODO\n",
    "county_suffix = ['新区', '矿区','区', '县', '市', '现代产业园', '行政委员会', '管委会']\n",
    "cnames = set(['市辖区','山西转型综合改革示范区'])\n",
    "def county_process(row):\n",
    "    name = row['name']\n",
    "    if len(name) <= 2 or name in cnames:\n",
    "        return [name] # 赵县\n",
    "    s = '高新技术产业开发区'\n",
    "    if name.endswith(s):\n",
    "        x = name[:-len(s)].rstrip('市')\n",
    "        if len(x) <= 3 or x == '乌鲁木齐':\n",
    "            return [name, s, '高新区']\n",
    "        if x == '河北衡水':\n",
    "            return [name, s, '高新区']\n",
    "        if x == '包头稀土':\n",
    "            return [name, '稀土'+s, '稀土高新区']\n",
    "        if x == '长春净月':\n",
    "            return [name, '净月'+s, '净月高新区', '净月']\n",
    "        if x == '泰州医药':\n",
    "            return [name, '医药'+s, '医药高新区']\n",
    "        if x == '合肥新站':\n",
    "            return [name, '新站'+s, '新站高新区']\n",
    "        return [name]\n",
    "\n",
    "    s = '高新技术产业园区'\n",
    "    if name.endswith(s):\n",
    "        return [name, s, '高新区']\n",
    "\n",
    "    s = '工业园区'\n",
    "    if name.endswith(s):\n",
    "        if name == '呼和浩特金海工业园区':\n",
    "            return [name, '金海工业园区', '金海', s, '工业园']\n",
    "        if name =='格尔木藏青工业园区':\n",
    "            return [name, '藏青工业园区', '藏青', s, '工业园']\n",
    "        return [name, s, '工业园']\n",
    "    \n",
    "    if name == '石家庄循环化工园区':\n",
    "        return [name, '循环化工园', '化工园']\n",
    "    \n",
    "    s = '管理区'\n",
    "    if name.endswith(s):\n",
    "        x = name[:-len(s)]\n",
    "        if len(x) <= 3:\n",
    "            return [name, x]\n",
    "        x = x[x.find('市')+1:]\n",
    "        return [name,x]\n",
    "    \n",
    "    s = '城乡一体化示范区'\n",
    "    if name.endswith(s):\n",
    "        return [name, '示范区']\n",
    "    \n",
    "    if name == '云龙示范区':\n",
    "        return [name, '云龙', '示范区']\n",
    "    if name == '湘潭昭山示范区':\n",
    "        return [name, '昭山示范区', '昭山']\n",
    "    if name == '湘潭九华示范区':\n",
    "        return [name, '九华示范区', '九华']\n",
    "    \n",
    "    if name == '邯郸冀南新区':\n",
    "        return [name, '冀南']\n",
    "    \n",
    "    if name == '五台山风景名胜区':\n",
    "        return [name, '五台山']\n",
    "    \n",
    "    ss = ['经济技术开发区','经济开发区']\n",
    "    for s in ss:\n",
    "        if name.endswith(s):\n",
    "            return [name, s, '开发区']\n",
    "    \n",
    "    if name.endswith('自治县'):\n",
    "        x = name[:-3]\n",
    "        for i in nations:\n",
    "            x = x.replace(i,\"\")\n",
    "        if len(x) == 0: return [name]\n",
    "        ret = [name,x+\"自治县\",x+\"县\",x]\n",
    "        return ret    \n",
    "    for suffix in county_suffix:\n",
    "        if name.endswith(suffix):\n",
    "            return [name, name[:-len(suffix)]]\n",
    "    if name.endswith('自治旗'):\n",
    "        x = name[:-len('自治旗')]\n",
    "        return [name, x+'旗', x]\n",
    "    elif name.endswith('旗'):\n",
    "        return [name, name.rstrip('旗')]\n",
    "    elif name == '保定白沟新城':\n",
    "        return [name, '白沟']\n",
    "    elif name.endswith('群岛'):\n",
    "        return [name, name.rstrip('群岛')]\n",
    "    elif name == '中沙群岛的岛礁及其海域':\n",
    "        return [name, '中沙群岛', '中沙']\n",
    "    return [name]"
   ]
  },
  {
   "cell_type": "code",
   "execution_count": 11,
   "metadata": {},
   "outputs": [
    {
     "data": {
      "text/plain": [
       "707    [五台山风景名胜区, 五台山]\n",
       "dtype: object"
      ]
     },
     "execution_count": 11,
     "metadata": {},
     "output_type": "execute_result"
    }
   ],
   "source": [
    "#county.apply(county_process,axis=1)\n",
    "#county[~county.name.str.match('.*(县|区|市|现代产业园|行政委员会|管委会|自治旗|旗|保定白沟新城|群岛)$')]\n",
    "county[county.name.str.match('.*(名胜区)$')].apply(county_process,axis=1)\n",
    "#county[county.name.str.match('.*(自治县)$')].apply(county_process,axis=1)"
   ]
  },
  {
   "cell_type": "code",
   "execution_count": 12,
   "metadata": {},
   "outputs": [],
   "source": [
    "town = df[df['type']=='town']"
   ]
  },
  {
   "cell_type": "code",
   "execution_count": 13,
   "metadata": {},
   "outputs": [],
   "source": [
    "town.name.to_csv('town.txt',index=None,header=None)"
   ]
  },
  {
   "cell_type": "code",
   "execution_count": 14,
   "metadata": {},
   "outputs": [
    {
     "name": "stdout",
     "output_type": "stream",
     "text": [
      " 43486 / 43486 [====================================================] 100.00% 0s\n",
      "done!\n"
     ]
    }
   ],
   "source": [
    "!goname -i town.txt"
   ]
  },
  {
   "cell_type": "code",
   "execution_count": 15,
   "metadata": {},
   "outputs": [],
   "source": [
    "town_suffix = ['镇', '乡', '街道办事处', '街道', '地区办事处']\n",
    "def town_process(row):\n",
    "    name = row['name']\n",
    "    for suffix in town_suffix:\n",
    "        if name.endswith(suffix):\n",
    "            return [name, name[:-len(suffix)]]\n",
    "    return [name]"
   ]
  },
  {
   "cell_type": "code",
   "execution_count": 16,
   "metadata": {},
   "outputs": [],
   "source": [
    "#town.apply(town_process,axis=1)\n",
    "#town[~town.name.str.match('.*(镇|乡|街道办事处|地区办事处|街道)$')]"
   ]
  },
  {
   "cell_type": "code",
   "execution_count": 17,
   "metadata": {},
   "outputs": [],
   "source": [
    "village = df[df['type']=='village']"
   ]
  },
  {
   "cell_type": "code",
   "execution_count": 18,
   "metadata": {},
   "outputs": [],
   "source": [
    "village.name.to_csv('village.txt',index=None,header=None)"
   ]
  },
  {
   "cell_type": "code",
   "execution_count": 19,
   "metadata": {},
   "outputs": [
    {
     "name": "stdout",
     "output_type": "stream",
     "text": [
      " 665040 / 665040 [=================================================] 100.00% 20s\n",
      "done!\n"
     ]
    }
   ],
   "source": [
    "!goname -i village.txt -o village_suffix.txt"
   ]
  },
  {
   "cell_type": "code",
   "execution_count": 20,
   "metadata": {},
   "outputs": [],
   "source": [
    "def village_process(row):\n",
    "    name = row['name']\n",
    "    ss = [\"村委会\",\"村民委员会\",\"社区村委会\",\"嘎查\",\"嘎查村\",\"嘎查村委员会\"]\n",
    "    for s in ss:\n",
    "        if name.endswith(s):\n",
    "            x = name[:-len(s)]\n",
    "            if x.endswith('村'):\n",
    "                if len(x)>2: return [name, x, x.rstrip('村')]\n",
    "                return [name, x]\n",
    "            else:\n",
    "                return [name, x+'村', x]\n",
    "    ss = [\"生活区\",\"工作区\",\"工业园\",\"工业区\",\"虚拟社区\"]\n",
    "    for s in ss:\n",
    "        if name.endswith(s):\n",
    "            x = name[:-len(s)]\n",
    "            return [name, x]\n",
    "        \n",
    "    ss = [\"社区居委会\",\"社区居民委员会\",\"居民委员会\",\"居委会\",\"社区\",\"社区委员会\",\"社区居委\",\"社区居民委会\"]\n",
    "    for s in ss:\n",
    "        if name.endswith(s):\n",
    "            x = name[:-len(s)]\n",
    "            return [name, x+'社区', x+\"小区\", x]\n",
    "\n",
    "    return [name]"
   ]
  },
  {
   "cell_type": "code",
   "execution_count": 22,
   "metadata": {},
   "outputs": [],
   "source": [
    "#village[village.name.str.match(\".*(嘎查)$\")].apply(village_process, axis=1)\n",
    "#ss = [\"村委会\",\"村民委员会\",\"社区村委会\",\"嘎查\",\"嘎查村\",\"嘎查村委员会\"]+[\"社区居委会\",\"社区居民委员会\"]+[\"社区\"]\n",
    "#ss += [\"居民委员会\",\"居委会\",\"社区\",\"社区委员会\",\"社区居委\",\"生活区\",\"工作区\",\"工业园\",\"工业区\",\"社区居民委会\"]\n",
    "#village[~village.name.str.match(\".*(\"+'|'.join(ss)+\")$\")].head()\n",
    "#village[village.name.str.match(\".*(虚拟社区)$\")].apply(village_process, axis=1)"
   ]
  },
  {
   "cell_type": "code",
   "execution_count": 23,
   "metadata": {},
   "outputs": [
    {
     "data": {
      "text/plain": [
       "712182"
      ]
     },
     "execution_count": 23,
     "metadata": {},
     "output_type": "execute_result"
    }
   ],
   "source": [
    "len(df)"
   ]
  },
  {
   "cell_type": "code",
   "execution_count": null,
   "metadata": {},
   "outputs": [],
   "source": []
  }
 ],
 "metadata": {
  "kernelspec": {
   "display_name": "Python 3",
   "language": "python",
   "name": "python3"
  },
  "language_info": {
   "codemirror_mode": {
    "name": "ipython",
    "version": 3
   },
   "file_extension": ".py",
   "mimetype": "text/x-python",
   "name": "python",
   "nbconvert_exporter": "python",
   "pygments_lexer": "ipython3",
   "version": "3.7.1"
  }
 },
 "nbformat": 4,
 "nbformat_minor": 2
}
