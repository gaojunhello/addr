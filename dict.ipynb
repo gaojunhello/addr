{
 "cells": [
  {
   "cell_type": "code",
   "execution_count": 1,
   "metadata": {},
   "outputs": [],
   "source": [
    "import pandas as pd"
   ]
  },
  {
   "cell_type": "code",
   "execution_count": 6,
   "metadata": {},
   "outputs": [],
   "source": [
    "df = pd.read_csv(\"./cmd/addr.txt\",header=None,sep='\\t',dtype=str,names=['type','code','name'])"
   ]
  },
  {
   "cell_type": "code",
   "execution_count": 8,
   "metadata": {},
   "outputs": [],
   "source": [
    "province = df[df['type']=='province']"
   ]
  },
  {
   "cell_type": "code",
   "execution_count": 21,
   "metadata": {},
   "outputs": [],
   "source": [
    "def process(row):\n",
    "    name = row['name']\n",
    "    if name.endswith('市'):\n",
    "        return [name, name.rstrip('市')]\n",
    "    elif name.endswith('省'):\n",
    "        return [name, name.rstrip('省')]\n",
    "    elif name == '内蒙古自治区':\n",
    "        return [name, '内蒙古省', '内蒙古', '内蒙']\n",
    "    elif name == '广西壮族自治区':\n",
    "        return [name, '广西自治区', '广西省', '广西']\n",
    "    elif name == '西藏自治区':\n",
    "        return [name, '西藏省', '西藏']\n",
    "    elif name == '新疆维吾尔自治区':\n",
    "        return [name,'新疆维吾尔族自治区', '新疆自治区', '新疆省', '新疆']\n",
    "    return [name]"
   ]
  },
  {
   "cell_type": "code",
   "execution_count": 26,
   "metadata": {},
   "outputs": [],
   "source": [
    "#province['ext'] = province.apply(process, axis=1)"
   ]
  },
  {
   "cell_type": "code",
   "execution_count": 27,
   "metadata": {},
   "outputs": [],
   "source": [
    "city = df[df['type']=='city']"
   ]
  },
  {
   "cell_type": "code",
   "execution_count": 82,
   "metadata": {},
   "outputs": [],
   "source": [
    "zu = open(\"minzu.txt\").read().strip().split('\\n')\n",
    "def _zhou(name):\n",
    "    x = name.rstrip('自治州')\n",
    "    for i in zu:\n",
    "        x = x.replace(i,\"\")\n",
    "    ret = [name,x+\"自治州\",x+\"州\",x+\"市\",x]\n",
    "    if name == '克孜勒苏柯尔克孜自治州': ret.append(\"克州\")\n",
    "    elif name == '巴音郭楞蒙古自治州': ret.append(\"巴州\")\n",
    "    elif name == '博尔塔拉蒙古自治州': ret.append(\"博州\")\n",
    "    return ret\n",
    "def city_process(row):\n",
    "    name = row['name']\n",
    "    if name.endswith('市'):\n",
    "        ret = [name, name.rstrip('市')]\n",
    "        if name == '呼和浩特市': ret.append('呼市')\n",
    "        return ret\n",
    "    elif name.endswith('盟'):\n",
    "        return [name, name.rstrip('盟')]\n",
    "    elif name.endswith(\"自治州\"):\n",
    "        return _zhou(name)\n",
    "    elif name.endswith(\"地区\"):\n",
    "        return [name, name.rstrip(\"地区\")]\n",
    "    return [name]"
   ]
  },
  {
   "cell_type": "code",
   "execution_count": 86,
   "metadata": {},
   "outputs": [
    {
     "data": {
      "text/html": [
       "<div>\n",
       "<style scoped>\n",
       "    .dataframe tbody tr th:only-of-type {\n",
       "        vertical-align: middle;\n",
       "    }\n",
       "\n",
       "    .dataframe tbody tr th {\n",
       "        vertical-align: top;\n",
       "    }\n",
       "\n",
       "    .dataframe thead th {\n",
       "        text-align: right;\n",
       "    }\n",
       "</style>\n",
       "<table border=\"1\" class=\"dataframe\">\n",
       "  <thead>\n",
       "    <tr style=\"text-align: right;\">\n",
       "      <th></th>\n",
       "      <th>type</th>\n",
       "      <th>code</th>\n",
       "      <th>name</th>\n",
       "    </tr>\n",
       "  </thead>\n",
       "  <tbody>\n",
       "    <tr>\n",
       "      <th>31</th>\n",
       "      <td>city</td>\n",
       "      <td>110100000000</td>\n",
       "      <td>市辖区</td>\n",
       "    </tr>\n",
       "    <tr>\n",
       "      <th>32</th>\n",
       "      <td>city</td>\n",
       "      <td>120100000000</td>\n",
       "      <td>市辖区</td>\n",
       "    </tr>\n",
       "    <tr>\n",
       "      <th>103</th>\n",
       "      <td>city</td>\n",
       "      <td>310100000000</td>\n",
       "      <td>市辖区</td>\n",
       "    </tr>\n",
       "    <tr>\n",
       "      <th>198</th>\n",
       "      <td>city</td>\n",
       "      <td>419000000000</td>\n",
       "      <td>省直辖县级行政区划</td>\n",
       "    </tr>\n",
       "    <tr>\n",
       "      <th>212</th>\n",
       "      <td>city</td>\n",
       "      <td>429000000000</td>\n",
       "      <td>省直辖县级行政区划</td>\n",
       "    </tr>\n",
       "    <tr>\n",
       "      <th>266</th>\n",
       "      <td>city</td>\n",
       "      <td>469000000000</td>\n",
       "      <td>省直辖县级行政区划</td>\n",
       "    </tr>\n",
       "    <tr>\n",
       "      <th>267</th>\n",
       "      <td>city</td>\n",
       "      <td>500100000000</td>\n",
       "      <td>市辖区</td>\n",
       "    </tr>\n",
       "    <tr>\n",
       "      <th>268</th>\n",
       "      <td>city</td>\n",
       "      <td>500200000000</td>\n",
       "      <td>县</td>\n",
       "    </tr>\n",
       "    <tr>\n",
       "      <th>373</th>\n",
       "      <td>city</td>\n",
       "      <td>659000000000</td>\n",
       "      <td>自治区直辖县级行政区划</td>\n",
       "    </tr>\n",
       "  </tbody>\n",
       "</table>\n",
       "</div>"
      ],
      "text/plain": [
       "     type          code         name\n",
       "31   city  110100000000          市辖区\n",
       "32   city  120100000000          市辖区\n",
       "103  city  310100000000          市辖区\n",
       "198  city  419000000000    省直辖县级行政区划\n",
       "212  city  429000000000    省直辖县级行政区划\n",
       "266  city  469000000000    省直辖县级行政区划\n",
       "267  city  500100000000          市辖区\n",
       "268  city  500200000000            县\n",
       "373  city  659000000000  自治区直辖县级行政区划"
      ]
     },
     "execution_count": 86,
     "metadata": {},
     "output_type": "execute_result"
    }
   ],
   "source": [
    "#city[~city.name.str.match('.*(市|盟|区|区划|县)$')].name.apply(_zhou)\n",
    "#city.apply(city_process,axis=1)\n",
    "city[~city.name.str.match('.*(市|盟|自治州|地区)$')]"
   ]
  },
  {
   "cell_type": "code",
   "execution_count": 87,
   "metadata": {},
   "outputs": [],
   "source": [
    "county = df[df['type']=='county']"
   ]
  },
  {
   "cell_type": "code",
   "execution_count": 110,
   "metadata": {},
   "outputs": [],
   "source": [
    "def county_process(row):\n",
    "    name = row['name']\n",
    "    if name.endswith('区'):\n",
    "        return [name, name.rstrip('区')]\n",
    "    elif name.endswith('县'):\n",
    "        return [name, name.rstrip('县')]\n",
    "    elif name.endswith('市'):\n",
    "        return [name, name.rstrip('市')]\n",
    "    elif name.endswith('现代产业园'):\n",
    "        return [name, name.rstrip('现代产业园')]\n",
    "    elif name.endswith('行政委员会'):\n",
    "        return [name, name.rstrip('行政委员会')]\n",
    "    elif name.endswith('管委会'):\n",
    "        return [name, name.rstrip('管委会')]\n",
    "    elif name.endswith('自治旗'):\n",
    "        x = name.rstrip('自治旗')\n",
    "        return [name, x+'旗', x]\n",
    "    elif name.endswith('旗'):\n",
    "        return [name, name.rstrip('旗')]\n",
    "    elif name == '保定白沟新城':\n",
    "        return [name, '白沟']\n",
    "    elif name.endswith('群岛'):\n",
    "        return [name, name.rstrip('群岛')]\n",
    "    elif name == '中沙群岛的岛礁及其海域':\n",
    "        return [name, '中沙群岛', '中沙']\n",
    "    return [name]"
   ]
  },
  {
   "cell_type": "code",
   "execution_count": 111,
   "metadata": {},
   "outputs": [
    {
     "data": {
      "text/html": [
       "<div>\n",
       "<style scoped>\n",
       "    .dataframe tbody tr th:only-of-type {\n",
       "        vertical-align: middle;\n",
       "    }\n",
       "\n",
       "    .dataframe tbody tr th {\n",
       "        vertical-align: top;\n",
       "    }\n",
       "\n",
       "    .dataframe thead th {\n",
       "        text-align: right;\n",
       "    }\n",
       "</style>\n",
       "<table border=\"1\" class=\"dataframe\">\n",
       "  <thead>\n",
       "    <tr style=\"text-align: right;\">\n",
       "      <th></th>\n",
       "      <th>type</th>\n",
       "      <th>code</th>\n",
       "      <th>name</th>\n",
       "    </tr>\n",
       "  </thead>\n",
       "  <tbody>\n",
       "    <tr>\n",
       "      <th>2693</th>\n",
       "      <td>county</td>\n",
       "      <td>460323000000</td>\n",
       "      <td>中沙群岛的岛礁及其海域</td>\n",
       "    </tr>\n",
       "  </tbody>\n",
       "</table>\n",
       "</div>"
      ],
      "text/plain": [
       "        type          code         name\n",
       "2693  county  460323000000  中沙群岛的岛礁及其海域"
      ]
     },
     "execution_count": 111,
     "metadata": {},
     "output_type": "execute_result"
    }
   ],
   "source": [
    "#city[~city.name.str.match('.*(市|盟|区|区划|县)$')].name.apply(_zhou)\n",
    "#city.apply(city_process,axis=1)\n",
    "county[~county.name.str.match('.*(县|区|市|现代产业园|行政委员会|管委会|自治旗|旗|保定白沟新城|群岛)$')]"
   ]
  },
  {
   "cell_type": "code",
   "execution_count": 106,
   "metadata": {},
   "outputs": [
    {
     "data": {
      "text/html": [
       "<div>\n",
       "<style scoped>\n",
       "    .dataframe tbody tr th:only-of-type {\n",
       "        vertical-align: middle;\n",
       "    }\n",
       "\n",
       "    .dataframe tbody tr th {\n",
       "        vertical-align: top;\n",
       "    }\n",
       "\n",
       "    .dataframe thead th {\n",
       "        text-align: right;\n",
       "    }\n",
       "</style>\n",
       "<table border=\"1\" class=\"dataframe\">\n",
       "  <thead>\n",
       "    <tr style=\"text-align: right;\">\n",
       "      <th></th>\n",
       "      <th>type</th>\n",
       "      <th>code</th>\n",
       "      <th>name</th>\n",
       "    </tr>\n",
       "  </thead>\n",
       "  <tbody>\n",
       "    <tr>\n",
       "      <th>524</th>\n",
       "      <td>county</td>\n",
       "      <td>130672000000</td>\n",
       "      <td>保定白沟新城</td>\n",
       "    </tr>\n",
       "  </tbody>\n",
       "</table>\n",
       "</div>"
      ],
      "text/plain": [
       "       type          code    name\n",
       "524  county  130672000000  保定白沟新城"
      ]
     },
     "execution_count": 106,
     "metadata": {},
     "output_type": "execute_result"
    }
   ],
   "source": [
    "county[county.name.str.match('.*白沟.*')]"
   ]
  },
  {
   "cell_type": "code",
   "execution_count": null,
   "metadata": {},
   "outputs": [],
   "source": []
  }
 ],
 "metadata": {
  "kernelspec": {
   "display_name": "Python 3",
   "language": "python",
   "name": "python3"
  },
  "language_info": {
   "codemirror_mode": {
    "name": "ipython",
    "version": 3
   },
   "file_extension": ".py",
   "mimetype": "text/x-python",
   "name": "python",
   "nbconvert_exporter": "python",
   "pygments_lexer": "ipython3",
   "version": "3.7.1"
  }
 },
 "nbformat": 4,
 "nbformat_minor": 2
}
