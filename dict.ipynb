{
 "cells": [
  {
   "cell_type": "code",
   "execution_count": 1,
   "metadata": {},
   "outputs": [],
   "source": [
    "import pandas as pd"
   ]
  },
  {
   "cell_type": "code",
   "execution_count": 189,
   "metadata": {},
   "outputs": [],
   "source": [
    "df = pd.read_csv(\"./cmd/addr.txt\",header=None,sep='\\t',dtype=str,names=['type','code','name'])\n",
    "\n",
    "def nations_():\n",
    "    for line in open(\"./cmd/chinese_nations.txt\"):\n",
    "        line = line.strip()\n",
    "        if len(line) > 2:\n",
    "            yield line[:-1]\n",
    "        yield line\n",
    "\n",
    "nations = list(nations_())"
   ]
  },
  {
   "cell_type": "code",
   "execution_count": 8,
   "metadata": {},
   "outputs": [],
   "source": [
    "province = df[df['type']=='province']"
   ]
  },
  {
   "cell_type": "code",
   "execution_count": 21,
   "metadata": {},
   "outputs": [],
   "source": [
    "def process(row):\n",
    "    name = row['name']\n",
    "    if name.endswith('市'):\n",
    "        return [name, name.rstrip('市')]\n",
    "    elif name.endswith('省'):\n",
    "        return [name, name.rstrip('省')]\n",
    "    elif name == '内蒙古自治区':\n",
    "        return [name, '内蒙古省', '内蒙古', '内蒙']\n",
    "    elif name == '广西壮族自治区':\n",
    "        return [name, '广西自治区', '广西省', '广西']\n",
    "    elif name == '西藏自治区':\n",
    "        return [name, '西藏省', '西藏']\n",
    "    elif name == '新疆维吾尔自治区':\n",
    "        return [name,'新疆维吾尔族自治区', '新疆自治区', '新疆省', '新疆']\n",
    "    return [name]"
   ]
  },
  {
   "cell_type": "code",
   "execution_count": 26,
   "metadata": {},
   "outputs": [],
   "source": [
    "#province['ext'] = province.apply(process, axis=1)"
   ]
  },
  {
   "cell_type": "code",
   "execution_count": 27,
   "metadata": {},
   "outputs": [],
   "source": [
    "city = df[df['type']=='city']"
   ]
  },
  {
   "cell_type": "code",
   "execution_count": 190,
   "metadata": {},
   "outputs": [],
   "source": [
    "def _zhou(name):\n",
    "    x = name.rstrip('自治州')\n",
    "    for i in nations:\n",
    "        x = x.replace(i,\"\")\n",
    "    ret = [name,x+\"自治州\",x+\"州\",x+\"市\",x]\n",
    "    if name == '克孜勒苏柯尔克孜自治州': ret.append(\"克州\")\n",
    "    elif name == '巴音郭楞蒙古自治州': ret.append(\"巴州\")\n",
    "    elif name == '博尔塔拉蒙古自治州': ret.append(\"博州\")\n",
    "    return ret\n",
    "def city_process(row):\n",
    "    name = row['name']\n",
    "    if name.endswith('市'):\n",
    "        ret = [name, name.rstrip('市')]\n",
    "        if name == '呼和浩特市': ret.append('呼市')\n",
    "        return ret\n",
    "    elif name.endswith('盟'):\n",
    "        return [name, name.rstrip('盟')]\n",
    "    elif name.endswith(\"自治州\"):\n",
    "        return _zhou(name)\n",
    "    elif name.endswith(\"地区\"):\n",
    "        return [name, name.rstrip(\"地区\")]\n",
    "    return [name]"
   ]
  },
  {
   "cell_type": "code",
   "execution_count": 192,
   "metadata": {},
   "outputs": [],
   "source": [
    "#city[~city.name.str.match('.*(市|盟|区|区划|县)$')].name.apply(_zhou)\n",
    "#city.apply(city_process,axis=1)\n",
    "#city[~city.name.str.match('.*(市|盟|自治州|地区)$')]"
   ]
  },
  {
   "cell_type": "code",
   "execution_count": 87,
   "metadata": {},
   "outputs": [],
   "source": [
    "county = df[df['type']=='county']"
   ]
  },
  {
   "cell_type": "code",
   "execution_count": 256,
   "metadata": {},
   "outputs": [],
   "source": [
    "# TODO\n",
    "county_suffix = ['新区', '矿区','区', '县', '市', '现代产业园', '行政委员会', '管委会']\n",
    "cnames = set(['市辖区'])\n",
    "def county_process(row):\n",
    "    name = row['name']\n",
    "    if len(name) <= 2 or name in cnames:\n",
    "        return [name] # 赵县\n",
    "    s = '高新技术产业开发区'\n",
    "    if name.endswith(s):\n",
    "        x = name[:-len(s)].rstrip('市')\n",
    "        if len(x) <= 3 or x == '乌鲁木齐':\n",
    "            return [name, s, '高新区']\n",
    "        if x == '河北衡水':\n",
    "            return [name, s, '高新区']\n",
    "        if x == '包头稀土':\n",
    "            return [name, '稀土'+s, '稀土高新区']\n",
    "        if x == '长春净月':\n",
    "            return [name, '净月'+s, '净月高新区', '净月']\n",
    "        if x == '泰州医药':\n",
    "            return [name, '医药'+s, '医药高新区']\n",
    "        if x == '合肥新站':\n",
    "            return [name, '新站'+s, '新站高新区']\n",
    "        return [name]\n",
    "\n",
    "    s = '高新技术产业园区'\n",
    "    if name.endswith(s):\n",
    "        return [name, s, '高新区']\n",
    "\n",
    "    s = '工业园区'\n",
    "    if name.endswith(s):\n",
    "        if name == '呼和浩特金海工业园区':\n",
    "            return [name, '金海工业园区', '金海', s, '工业园']\n",
    "        if name =='格尔木藏青工业园区':\n",
    "            return [name, '藏青工业园区', '藏青', s, '工业园']\n",
    "        return [name, s, '工业园']\n",
    "    \n",
    "    if name == '石家庄循环化工园区':\n",
    "        return [name, '循环化工园', '化工园']\n",
    "    \n",
    "    ss = ['经济技术开发区','经济开发区']\n",
    "    for s in ss:\n",
    "        if name.endswith(s):\n",
    "            return [name, s, '开发区']\n",
    "    \n",
    "    if name.endswith('自治县'):\n",
    "        x = name[:-3]\n",
    "        for i in nations:\n",
    "            x = x.replace(i,\"\")\n",
    "        if len(x) == 0: return [name]\n",
    "        ret = [name,x+\"自治县\",x+\"县\",x]\n",
    "        return ret    \n",
    "    for suffix in county_suffix:\n",
    "        if name.endswith(suffix):\n",
    "            return [name, name[:-len(suffix)]]\n",
    "    if name.endswith('自治旗'):\n",
    "        x = name[:-len('自治旗')]\n",
    "        return [name, x+'旗', x]\n",
    "    elif name.endswith('旗'):\n",
    "        return [name, name.rstrip('旗')]\n",
    "    elif name == '保定白沟新城':\n",
    "        return [name, '白沟']\n",
    "    elif name.endswith('群岛'):\n",
    "        return [name, name.rstrip('群岛')]\n",
    "    elif name == '中沙群岛的岛礁及其海域':\n",
    "        return [name, '中沙群岛', '中沙']\n",
    "    return [name]"
   ]
  },
  {
   "cell_type": "code",
   "execution_count": 257,
   "metadata": {},
   "outputs": [
    {
     "data": {
      "text/plain": [
       "444       [唐山市汉沽管理区, 唐山市汉沽管理]\n",
       "547     [张家口市察北管理区, 张家口市察北管理]\n",
       "548     [张家口市塞北管理区, 张家口市塞北管理]\n",
       "2237          [龙感湖管理区, 龙感湖管理]\n",
       "2330      [岳阳市屈原管理区, 岳阳市屈原管理]\n",
       "2342    [常德市西洞庭管理区, 常德市西洞庭管理]\n",
       "2355    [益阳市大通湖管理区, 益阳市大通湖管理]\n",
       "2383      [永州市金洞管理区, 永州市金洞管理]\n",
       "2384    [永州市回龙圩管理区, 永州市回龙圩管理]\n",
       "2397      [怀化市洪江管理区, 怀化市洪江管理]\n",
       "dtype: object"
      ]
     },
     "execution_count": 257,
     "metadata": {},
     "output_type": "execute_result"
    }
   ],
   "source": [
    "#county.apply(county_process,axis=1)\n",
    "#county[~county.name.str.match('.*(县|区|市|现代产业园|行政委员会|管委会|自治旗|旗|保定白沟新城|群岛)$')]\n",
    "county[county.name.str.match('.*(管理)(区)$')].apply(county_process,axis=1)\n",
    "#county[county.name.str.match('.*(自治县)$')].apply(county_process,axis=1)"
   ]
  },
  {
   "cell_type": "code",
   "execution_count": 112,
   "metadata": {},
   "outputs": [],
   "source": [
    "town = df[df['type']=='town']"
   ]
  },
  {
   "cell_type": "code",
   "execution_count": 116,
   "metadata": {},
   "outputs": [],
   "source": [
    "town.name.to_csv('town.txt',index=None,header=None)"
   ]
  },
  {
   "cell_type": "code",
   "execution_count": 117,
   "metadata": {},
   "outputs": [
    {
     "name": "stdout",
     "output_type": "stream",
     "text": [
      " 43486 / 43486 [====================================================] 100.00% 0s\n",
      "done!\n"
     ]
    }
   ],
   "source": [
    "!goname -i town.txt"
   ]
  },
  {
   "cell_type": "code",
   "execution_count": 135,
   "metadata": {},
   "outputs": [],
   "source": [
    "town_suffix = ['镇', '乡', '街道办事处', '街道', '地区办事处']\n",
    "def town_process(row):\n",
    "    name = row['name']\n",
    "    for suffix in town_suffix:\n",
    "        if name.endswith(suffix):\n",
    "            return [name, name[:-len(suffix)]]\n",
    "    return [name]"
   ]
  },
  {
   "cell_type": "code",
   "execution_count": 139,
   "metadata": {},
   "outputs": [],
   "source": [
    "#town.apply(town_process,axis=1)\n",
    "#town[~town.name.str.match('.*(镇|乡|街道办事处|地区办事处|街道)$')]"
   ]
  },
  {
   "cell_type": "code",
   "execution_count": 142,
   "metadata": {},
   "outputs": [],
   "source": [
    "village = df[df['type']=='village']"
   ]
  },
  {
   "cell_type": "code",
   "execution_count": 143,
   "metadata": {},
   "outputs": [],
   "source": [
    "village.name.to_csv('village.txt',index=None,header=None)"
   ]
  },
  {
   "cell_type": "code",
   "execution_count": 144,
   "metadata": {},
   "outputs": [
    {
     "name": "stdout",
     "output_type": "stream",
     "text": [
      " 270546 / 270546 [==================================================] 100.00% 8s\n",
      "done!\n"
     ]
    }
   ],
   "source": [
    "!goname -i village.txt -o village_suffix.txt"
   ]
  },
  {
   "cell_type": "code",
   "execution_count": 174,
   "metadata": {},
   "outputs": [],
   "source": [
    "def village_process(row):\n",
    "    name = row['name']\n",
    "    ss = [\"村委会\",\"村民委员会\",\"社区村委会\",\"嘎查\",\"嘎查村\",\"嘎查村委员会\"]\n",
    "    for s in ss:\n",
    "        if name.endswith(s):\n",
    "            x = name[:-len(s)]\n",
    "            if x.endswith('村'):\n",
    "                return [name, x, x.rstrip('村')]\n",
    "            else:\n",
    "                return [name, x+'村', x]\n",
    "    \n",
    "    ss = [\"社区居委会\",\"社区居民委员会\",\"居民委员会\",\"居委会\",\"社区\",\"社区委员会\",\"社区居委\",\"社区居民委会\"]\n",
    "    for s in ss:\n",
    "        if name.endswith(s):\n",
    "            x = name[:-len(s)]\n",
    "            return [name, x+'社区', x+\"小区\", x]\n",
    "\n",
    "    ss = [\"生活区\",\"工作区\",\"工业园\",\"工业区\"]\n",
    "    for s in ss:\n",
    "        if name.endswith(s):\n",
    "            x = name[:-len(s)]\n",
    "            return [name, x]\n",
    "    return [name]"
   ]
  },
  {
   "cell_type": "code",
   "execution_count": 178,
   "metadata": {},
   "outputs": [
    {
     "data": {
      "text/html": [
       "<div>\n",
       "<style scoped>\n",
       "    .dataframe tbody tr th:only-of-type {\n",
       "        vertical-align: middle;\n",
       "    }\n",
       "\n",
       "    .dataframe tbody tr th {\n",
       "        vertical-align: top;\n",
       "    }\n",
       "\n",
       "    .dataframe thead th {\n",
       "        text-align: right;\n",
       "    }\n",
       "</style>\n",
       "<table border=\"1\" class=\"dataframe\">\n",
       "  <thead>\n",
       "    <tr style=\"text-align: right;\">\n",
       "      <th></th>\n",
       "      <th>type</th>\n",
       "      <th>code</th>\n",
       "      <th>name</th>\n",
       "    </tr>\n",
       "  </thead>\n",
       "  <tbody>\n",
       "    <tr>\n",
       "      <th>52121</th>\n",
       "      <td>village</td>\n",
       "      <td>110115004402</td>\n",
       "      <td>亦庄镇南部多功能配套区</td>\n",
       "    </tr>\n",
       "    <tr>\n",
       "      <th>52236</th>\n",
       "      <td>village</td>\n",
       "      <td>110115006402</td>\n",
       "      <td>南郊旧宫场区</td>\n",
       "    </tr>\n",
       "    <tr>\n",
       "      <th>52439</th>\n",
       "      <td>village</td>\n",
       "      <td>110115103401</td>\n",
       "      <td>青云店镇工业开发区</td>\n",
       "    </tr>\n",
       "    <tr>\n",
       "      <th>52498</th>\n",
       "      <td>village</td>\n",
       "      <td>110115104401</td>\n",
       "      <td>北京采育经济开发区</td>\n",
       "    </tr>\n",
       "    <tr>\n",
       "      <th>52695</th>\n",
       "      <td>village</td>\n",
       "      <td>110115108401</td>\n",
       "      <td>庞各庄镇开发区</td>\n",
       "    </tr>\n",
       "  </tbody>\n",
       "</table>\n",
       "</div>"
      ],
      "text/plain": [
       "          type          code         name\n",
       "52121  village  110115004402  亦庄镇南部多功能配套区\n",
       "52236  village  110115006402       南郊旧宫场区\n",
       "52439  village  110115103401    青云店镇工业开发区\n",
       "52498  village  110115104401    北京采育经济开发区\n",
       "52695  village  110115108401      庞各庄镇开发区"
      ]
     },
     "execution_count": 178,
     "metadata": {},
     "output_type": "execute_result"
    }
   ],
   "source": [
    "#village[village.name.str.match(\".*(嘎查)$\")].apply(village_process, axis=1)\n",
    "ss = [\"村委会\",\"村民委员会\",\"社区村委会\",\"嘎查\",\"嘎查村\",\"嘎查村委员会\"]+[\"社区居委会\",\"社区居民委员会\"]+[\"社区\"]\n",
    "ss += [\"居民委员会\",\"居委会\",\"社区\",\"社区委员会\",\"社区居委\",\"生活区\",\"工作区\",\"工业园\",\"工业区\",\"社区居民委会\"]\n",
    "village[~village.name.str.match(\".*(\"+'|'.join(ss)+\")$\")].head()"
   ]
  },
  {
   "cell_type": "code",
   "execution_count": 201,
   "metadata": {},
   "outputs": [],
   "source": [
    "nations.sort(reverse=True)"
   ]
  },
  {
   "cell_type": "code",
   "execution_count": 202,
   "metadata": {},
   "outputs": [
    {
     "data": {
      "text/plain": [
       "['黎族',\n",
       " '高山族',\n",
       " '高山',\n",
       " '阿昌族',\n",
       " '阿昌',\n",
       " '门巴族',\n",
       " '门巴',\n",
       " '锡伯族',\n",
       " '锡伯',\n",
       " '鄂温克族',\n",
       " '鄂温克',\n",
       " '鄂伦春族',\n",
       " '鄂伦春',\n",
       " '达斡尔族',\n",
       " '达斡尔',\n",
       " '赫哲族',\n",
       " '赫哲',\n",
       " '裕固族',\n",
       " '裕固',\n",
       " '藏族',\n",
       " '蒙古族',\n",
       " '蒙古',\n",
       " '苗族',\n",
       " '羌族',\n",
       " '维吾尔族',\n",
       " '维吾尔',\n",
       " '纳西族',\n",
       " '纳西',\n",
       " '白族',\n",
       " '畲族',\n",
       " '瑶族',\n",
       " '珞巴族',\n",
       " '珞巴',\n",
       " '独龙族',\n",
       " '独龙',\n",
       " '满族',\n",
       " '汉族',\n",
       " '水族',\n",
       " '毛南族',\n",
       " '毛南',\n",
       " '柯尔克孜族',\n",
       " '柯尔克孜',\n",
       " '朝鲜族',\n",
       " '朝鲜',\n",
       " '景颇族',\n",
       " '景颇',\n",
       " '普米族',\n",
       " '普米',\n",
       " '撒拉族',\n",
       " '撒拉',\n",
       " '拉祜族',\n",
       " '拉祜',\n",
       " '怒族',\n",
       " '德昂族',\n",
       " '德昂',\n",
       " '彝族',\n",
       " '布朗族',\n",
       " '布朗',\n",
       " '布依族',\n",
       " '布依',\n",
       " '壮族',\n",
       " '塔塔尔族',\n",
       " '塔塔尔',\n",
       " '塔吉克族',\n",
       " '塔吉克',\n",
       " '基诺族',\n",
       " '基诺',\n",
       " '土族',\n",
       " '土家族',\n",
       " '土家',\n",
       " '回族',\n",
       " '哈萨克族',\n",
       " '哈萨克',\n",
       " '哈尼族',\n",
       " '哈尼',\n",
       " '傣族',\n",
       " '傈僳族',\n",
       " '傈僳',\n",
       " '保安族',\n",
       " '保安',\n",
       " '俄罗斯族',\n",
       " '俄罗斯',\n",
       " '侗族',\n",
       " '佤族',\n",
       " '仫佬族',\n",
       " '仫佬',\n",
       " '仡佬族',\n",
       " '仡佬',\n",
       " '京族',\n",
       " '乌孜别克族',\n",
       " '乌孜别克',\n",
       " '东乡族',\n",
       " '东乡']"
      ]
     },
     "execution_count": 202,
     "metadata": {},
     "output_type": "execute_result"
    }
   ],
   "source": [
    "nations"
   ]
  },
  {
   "cell_type": "code",
   "execution_count": null,
   "metadata": {},
   "outputs": [],
   "source": []
  }
 ],
 "metadata": {
  "kernelspec": {
   "display_name": "Python 3",
   "language": "python",
   "name": "python3"
  },
  "language_info": {
   "codemirror_mode": {
    "name": "ipython",
    "version": 3
   },
   "file_extension": ".py",
   "mimetype": "text/x-python",
   "name": "python",
   "nbconvert_exporter": "python",
   "pygments_lexer": "ipython3",
   "version": "3.7.1"
  }
 },
 "nbformat": 4,
 "nbformat_minor": 2
}
