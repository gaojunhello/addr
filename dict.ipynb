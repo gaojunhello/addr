{
 "cells": [
  {
   "cell_type": "code",
   "execution_count": 1,
   "metadata": {},
   "outputs": [],
   "source": [
    "import pandas as pd"
   ]
  },
  {
   "cell_type": "code",
   "execution_count": 6,
   "metadata": {},
   "outputs": [],
   "source": [
    "df = pd.read_csv(\"./cmd/addr.txt\",header=None,sep='\\t',dtype=str,names=['type','code','name'])"
   ]
  },
  {
   "cell_type": "code",
   "execution_count": 8,
   "metadata": {},
   "outputs": [],
   "source": [
    "province = df[df['type']=='province']"
   ]
  },
  {
   "cell_type": "code",
   "execution_count": 21,
   "metadata": {},
   "outputs": [],
   "source": [
    "def process(row):\n",
    "    name = row['name']\n",
    "    if name.endswith('市'):\n",
    "        return [name, name.rstrip('市')]\n",
    "    elif name.endswith('省'):\n",
    "        return [name, name.rstrip('省')]\n",
    "    elif name == '内蒙古自治区':\n",
    "        return [name, '内蒙古省', '内蒙古', '内蒙']\n",
    "    elif name == '广西壮族自治区':\n",
    "        return [name, '广西自治区', '广西省', '广西']\n",
    "    elif name == '西藏自治区':\n",
    "        return [name, '西藏省', '西藏']\n",
    "    elif name == '新疆维吾尔自治区':\n",
    "        return [name,'新疆维吾尔族自治区', '新疆自治区', '新疆省', '新疆']\n",
    "    return [name]"
   ]
  },
  {
   "cell_type": "code",
   "execution_count": 26,
   "metadata": {},
   "outputs": [],
   "source": [
    "#province['ext'] = province.apply(process, axis=1)"
   ]
  },
  {
   "cell_type": "code",
   "execution_count": 27,
   "metadata": {},
   "outputs": [],
   "source": [
    "city = df[df['type']=='city']"
   ]
  },
  {
   "cell_type": "code",
   "execution_count": 82,
   "metadata": {},
   "outputs": [],
   "source": [
    "zu = open(\"minzu.txt\").read().strip().split('\\n')\n",
    "def _zhou(name):\n",
    "    x = name.rstrip('自治州')\n",
    "    for i in zu:\n",
    "        x = x.replace(i,\"\")\n",
    "    ret = [name,x+\"自治州\",x+\"州\",x+\"市\",x]\n",
    "    if name == '克孜勒苏柯尔克孜自治州': ret.append(\"克州\")\n",
    "    elif name == '巴音郭楞蒙古自治州': ret.append(\"巴州\")\n",
    "    elif name == '博尔塔拉蒙古自治州': ret.append(\"博州\")\n",
    "    return ret\n",
    "def city_process(row):\n",
    "    name = row['name']\n",
    "    if name.endswith('市'):\n",
    "        ret = [name, name.rstrip('市')]\n",
    "        if name == '呼和浩特市': ret.append('呼市')\n",
    "        return ret\n",
    "    elif name.endswith('盟'):\n",
    "        return [name, name.rstrip('盟')]\n",
    "    elif name.endswith(\"自治州\"):\n",
    "        return _zhou(name)\n",
    "    elif name.endswith(\"地区\"):\n",
    "        return [name, name.rstrip(\"地区\")]\n",
    "    return [name]"
   ]
  },
  {
   "cell_type": "code",
   "execution_count": 140,
   "metadata": {},
   "outputs": [],
   "source": [
    "#city[~city.name.str.match('.*(市|盟|区|区划|县)$')].name.apply(_zhou)\n",
    "#city.apply(city_process,axis=1)\n",
    "#city[~city.name.str.match('.*(市|盟|自治州|地区)$')]"
   ]
  },
  {
   "cell_type": "code",
   "execution_count": 87,
   "metadata": {},
   "outputs": [],
   "source": [
    "county = df[df['type']=='county']"
   ]
  },
  {
   "cell_type": "code",
   "execution_count": 131,
   "metadata": {},
   "outputs": [],
   "source": [
    "county_suffix = ['新区', '矿区', '区', '县', '市', '现代产业园', '行政委员会', '管委会']\n",
    "def county_process(row):\n",
    "    name = row['name']\n",
    "    if len(name) <= 2: return [name] # 赵县\n",
    "    for suffix in county_suffix:\n",
    "        if name.endswith(suffix):\n",
    "            return [name, name[:-len(suffix)]]\n",
    "    if name.endswith('自治旗'):\n",
    "        x = name[:-len('自治旗')]\n",
    "        return [name, x+'旗', x]\n",
    "    elif name.endswith('旗'):\n",
    "        return [name, name.rstrip('旗')]\n",
    "    elif name == '保定白沟新城':\n",
    "        return [name, '白沟']\n",
    "    elif name.endswith('群岛'):\n",
    "        return [name, name.rstrip('群岛')]\n",
    "    elif name == '中沙群岛的岛礁及其海域':\n",
    "        return [name, '中沙群岛', '中沙']\n",
    "    return [name]"
   ]
  },
  {
   "cell_type": "code",
   "execution_count": 141,
   "metadata": {},
   "outputs": [],
   "source": [
    "#county.apply(county_process,axis=1)\n",
    "#county[~county.name.str.match('.*(县|区|市|现代产业园|行政委员会|管委会|自治旗|旗|保定白沟新城|群岛)$')]"
   ]
  },
  {
   "cell_type": "code",
   "execution_count": 112,
   "metadata": {},
   "outputs": [],
   "source": [
    "town = df[df['type']=='town']"
   ]
  },
  {
   "cell_type": "code",
   "execution_count": 116,
   "metadata": {},
   "outputs": [],
   "source": [
    "town.name.to_csv('town.txt',index=None,header=None)"
   ]
  },
  {
   "cell_type": "code",
   "execution_count": 117,
   "metadata": {},
   "outputs": [
    {
     "name": "stdout",
     "output_type": "stream",
     "text": [
      " 43486 / 43486 [====================================================] 100.00% 0s\n",
      "done!\n"
     ]
    }
   ],
   "source": [
    "!goname -i town.txt"
   ]
  },
  {
   "cell_type": "code",
   "execution_count": 135,
   "metadata": {},
   "outputs": [],
   "source": [
    "town_suffix = ['镇', '乡', '街道办事处', '街道', '地区办事处']\n",
    "def town_process(row):\n",
    "    name = row['name']\n",
    "    for suffix in town_suffix:\n",
    "        if name.endswith(suffix):\n",
    "            return [name, name[:-len(suffix)]]\n",
    "    return [name]"
   ]
  },
  {
   "cell_type": "code",
   "execution_count": 139,
   "metadata": {},
   "outputs": [],
   "source": [
    "#town.apply(town_process,axis=1)\n",
    "#town[~town.name.str.match('.*(镇|乡|街道办事处|地区办事处|街道)$')]"
   ]
  },
  {
   "cell_type": "code",
   "execution_count": 142,
   "metadata": {},
   "outputs": [],
   "source": [
    "village = df[df['type']=='village']"
   ]
  },
  {
   "cell_type": "code",
   "execution_count": 143,
   "metadata": {},
   "outputs": [],
   "source": [
    "village.name.to_csv('village.txt',index=None,header=None)"
   ]
  },
  {
   "cell_type": "code",
   "execution_count": 144,
   "metadata": {},
   "outputs": [
    {
     "name": "stdout",
     "output_type": "stream",
     "text": [
      " 270546 / 270546 [==================================================] 100.00% 8s\n",
      "done!\n"
     ]
    }
   ],
   "source": [
    "!goname -i village.txt -o village_suffix.txt"
   ]
  },
  {
   "cell_type": "code",
   "execution_count": 174,
   "metadata": {},
   "outputs": [],
   "source": [
    "def village_process(row):\n",
    "    name = row['name']\n",
    "    ss = [\"村委会\",\"村民委员会\",\"社区村委会\",\"嘎查\",\"嘎查村\",\"嘎查村委员会\"]\n",
    "    for s in ss:\n",
    "        if name.endswith(s):\n",
    "            x = name[:-len(s)]\n",
    "            if x.endswith('村'):\n",
    "                return [name, x, x.rstrip('村')]\n",
    "            else:\n",
    "                return [name, x+'村', x]\n",
    "    \n",
    "    ss = [\"社区居委会\",\"社区居民委员会\",\"居民委员会\",\"居委会\",\"社区\",\"社区委员会\",\"社区居委\",\"社区居民委会\"]\n",
    "    for s in ss:\n",
    "        if name.endswith(s):\n",
    "            x = name[:-len(s)]\n",
    "            return [name, x+'社区', x+\"小区\", x]\n",
    "\n",
    "    ss = [\"生活区\",\"工作区\",\"工业园\",\"工业区\"]\n",
    "    for s in ss:\n",
    "        if name.endswith(s):\n",
    "            x = name[:-len(s)]\n",
    "            return [name, x]\n",
    "    return [name]"
   ]
  },
  {
   "cell_type": "code",
   "execution_count": 178,
   "metadata": {},
   "outputs": [
    {
     "data": {
      "text/html": [
       "<div>\n",
       "<style scoped>\n",
       "    .dataframe tbody tr th:only-of-type {\n",
       "        vertical-align: middle;\n",
       "    }\n",
       "\n",
       "    .dataframe tbody tr th {\n",
       "        vertical-align: top;\n",
       "    }\n",
       "\n",
       "    .dataframe thead th {\n",
       "        text-align: right;\n",
       "    }\n",
       "</style>\n",
       "<table border=\"1\" class=\"dataframe\">\n",
       "  <thead>\n",
       "    <tr style=\"text-align: right;\">\n",
       "      <th></th>\n",
       "      <th>type</th>\n",
       "      <th>code</th>\n",
       "      <th>name</th>\n",
       "    </tr>\n",
       "  </thead>\n",
       "  <tbody>\n",
       "    <tr>\n",
       "      <th>52121</th>\n",
       "      <td>village</td>\n",
       "      <td>110115004402</td>\n",
       "      <td>亦庄镇南部多功能配套区</td>\n",
       "    </tr>\n",
       "    <tr>\n",
       "      <th>52236</th>\n",
       "      <td>village</td>\n",
       "      <td>110115006402</td>\n",
       "      <td>南郊旧宫场区</td>\n",
       "    </tr>\n",
       "    <tr>\n",
       "      <th>52439</th>\n",
       "      <td>village</td>\n",
       "      <td>110115103401</td>\n",
       "      <td>青云店镇工业开发区</td>\n",
       "    </tr>\n",
       "    <tr>\n",
       "      <th>52498</th>\n",
       "      <td>village</td>\n",
       "      <td>110115104401</td>\n",
       "      <td>北京采育经济开发区</td>\n",
       "    </tr>\n",
       "    <tr>\n",
       "      <th>52695</th>\n",
       "      <td>village</td>\n",
       "      <td>110115108401</td>\n",
       "      <td>庞各庄镇开发区</td>\n",
       "    </tr>\n",
       "  </tbody>\n",
       "</table>\n",
       "</div>"
      ],
      "text/plain": [
       "          type          code         name\n",
       "52121  village  110115004402  亦庄镇南部多功能配套区\n",
       "52236  village  110115006402       南郊旧宫场区\n",
       "52439  village  110115103401    青云店镇工业开发区\n",
       "52498  village  110115104401    北京采育经济开发区\n",
       "52695  village  110115108401      庞各庄镇开发区"
      ]
     },
     "execution_count": 178,
     "metadata": {},
     "output_type": "execute_result"
    }
   ],
   "source": [
    "#village[village.name.str.match(\".*(嘎查)$\")].apply(village_process, axis=1)\n",
    "ss = [\"村委会\",\"村民委员会\",\"社区村委会\",\"嘎查\",\"嘎查村\",\"嘎查村委员会\"]+[\"社区居委会\",\"社区居民委员会\"]+[\"社区\"]\n",
    "ss += [\"居民委员会\",\"居委会\",\"社区\",\"社区委员会\",\"社区居委\",\"生活区\",\"工作区\",\"工业园\",\"工业区\",\"社区居民委会\"]\n",
    "village[~village.name.str.match(\".*(\"+'|'.join(ss)+\")$\")].head()"
   ]
  },
  {
   "cell_type": "code",
   "execution_count": null,
   "metadata": {},
   "outputs": [],
   "source": []
  }
 ],
 "metadata": {
  "kernelspec": {
   "display_name": "Python 3",
   "language": "python",
   "name": "python3"
  },
  "language_info": {
   "codemirror_mode": {
    "name": "ipython",
    "version": 3
   },
   "file_extension": ".py",
   "mimetype": "text/x-python",
   "name": "python",
   "nbconvert_exporter": "python",
   "pygments_lexer": "ipython3",
   "version": "3.7.1"
  }
 },
 "nbformat": 4,
 "nbformat_minor": 2
}
