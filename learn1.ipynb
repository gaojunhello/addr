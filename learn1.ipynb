{
 "cells": [
  {
   "cell_type": "code",
   "execution_count": 6,
   "metadata": {},
   "outputs": [],
   "source": [
    "import pandas as pd\n",
    "import re"
   ]
  },
  {
   "cell_type": "code",
   "execution_count": 2,
   "metadata": {},
   "outputs": [],
   "source": [
    "df = pd.read_csv(\"./cmd/addr.txt\",header=None,sep='\\t',dtype=str,names=['type','code','name'])"
   ]
  },
  {
   "cell_type": "code",
   "execution_count": 18,
   "metadata": {},
   "outputs": [
    {
     "name": "stdout",
     "output_type": "stream",
     "text": [
      "泰达街道（天津经济技术开发区东区） ['（天津经济技术开发区东区）']\n",
      "天津经济技术开发区（其他片区） ['（其他片区）']\n",
      "沙尔沁工业区（如意南区） ['（如意南区）']\n",
      "县级单位直辖村级单位（特殊镇） ['（特殊镇）']\n",
      "辽宁（营口）沿海产业基地 ['（营口）']\n",
      "劝农山镇（长春莲花山生态旅游度假区省级） ['（长春莲花山生态旅游度假区省级）']\n",
      "四家乡（长春莲花山生态旅游度假区省级） ['（长春莲花山生态旅游度假区省级）']\n",
      "双营子回族乡（梅花鹿产业经济开发区）（省级） ['（梅花鹿产业经济开发区）（省级）']\n",
      "长春汽车经济技术开发区（特殊镇） ['（特殊镇）']\n",
      "吉林东市商贸示范区（特殊街道） ['（特殊街道）']\n"
     ]
    }
   ],
   "source": [
    "n = 0\n",
    "for name in df.name:\n",
    "    ret = re.findall(\"（.+）|\\(.+\\)\", name)\n",
    "    if ret:\n",
    "        print(name, ret)\n",
    "        n += 1\n",
    "        if n == 10: break"
   ]
  },
  {
   "cell_type": "code",
   "execution_count": null,
   "metadata": {},
   "outputs": [],
   "source": []
  }
 ],
 "metadata": {
  "kernelspec": {
   "display_name": "Python 3",
   "language": "python",
   "name": "python3"
  },
  "language_info": {
   "codemirror_mode": {
    "name": "ipython",
    "version": 3
   },
   "file_extension": ".py",
   "mimetype": "text/x-python",
   "name": "python",
   "nbconvert_exporter": "python",
   "pygments_lexer": "ipython3",
   "version": "3.7.1"
  }
 },
 "nbformat": 4,
 "nbformat_minor": 2
}
